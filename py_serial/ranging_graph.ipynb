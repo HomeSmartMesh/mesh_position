{
 "cells": [
  {
   "cell_type": "code",
   "execution_count": 1,
   "id": "6dee68ea-2216-4ae2-9505-fab83f74246d",
   "metadata": {},
   "outputs": [],
   "source": [
    "import meshposition as mp\n",
    "import utils as utl\n",
    "import numpy as np\n",
    "import matplotlib.pyplot as plt\n",
    "import analyse_utils as atl"
   ]
  },
  {
   "cell_type": "code",
   "execution_count": 2,
   "id": "5cd1edcb-2450-4e75-b6b3-4adf5ddfaeb2",
   "metadata": {},
   "outputs": [
    {
     "name": "stderr",
     "output_type": "stream",
     "text": [
      "uart> device with serial 000760129940 found at COM35\n",
      "uart> COM35 : is Open\n",
      "mqtt> connected to 10.0.0.42:1883 with id: meshposition_ryzen\n"
     ]
    },
    {
     "name": "stdout",
     "output_type": "stream",
     "text": [
      "mp>serial thread started\n",
      "mp>mqtt started\n"
     ]
    },
    {
     "name": "stderr",
     "output_type": "stream",
     "text": [
      "mqtt> connected with result code 0\n",
      "mqtt> Subscriptions not enabled\n",
      "mqtt> Publishing enabled\n"
     ]
    }
   ],
   "source": [
    "# can optionally be called for capture, must be followed by mp.stop() to close the serial port\n",
    "mp.start()"
   ]
  },
  {
   "cell_type": "code",
   "execution_count": 3,
   "id": "717da7cb-f19c-45af-b680-b8672f70c626",
   "metadata": {},
   "outputs": [
    {
     "name": "stdout",
     "output_type": "stream",
     "text": [
      "clearing 0 entries\n"
     ]
    }
   ],
   "source": [
    "#needed in case nodes output traffic on the channel e.g. when switching off and on\n",
    "mp.clear()"
   ]
  },
  {
   "cell_type": "markdown",
   "id": "7cc3f7f1-9291-45ab-9f27-a9dad83563cc",
   "metadata": {},
   "source": [
    "# RF IDs"
   ]
  },
  {
   "cell_type": "code",
   "execution_count": 4,
   "id": "d2c96143-2557-49dd-9a54-bcc53f9b658d",
   "metadata": {},
   "outputs": [
    {
     "name": "stdout",
     "output_type": "stream",
     "text": [
      "(RR) : (4)/(E2F96EB1D7A476CC)\n",
      "(Green) : (2)/(530BE91D3559D690)\n",
      "(RL) : (3)/(CBC216DC164B1DE8)\n",
      "(Simple) : (1)/(5F7D70F99F462C99)\n",
      "4 entries saved in ./test_db/2021.08.08/16-27-32 config_twr.json\n"
     ]
    },
    {
     "data": {
      "text/plain": [
       "'./test_db/2021.08.08/16-27-32 config_twr.json'"
      ]
     },
     "execution_count": 4,
     "metadata": {},
     "output_type": "execute_result"
    }
   ],
   "source": [
    "node_ids = mp.rf_get_active_short_ids()\n",
    "#utl.save_json_timestamp(\"config_twr\",node_ids)"
   ]
  },
  {
   "cell_type": "markdown",
   "id": "6220482a-6fa4-4adc-b93f-1e40c0ca3e37",
   "metadata": {},
   "source": [
    "# Ranging"
   ]
  },
  {
   "cell_type": "code",
   "execution_count": 5,
   "id": "04546a91-8992-49f6-8113-1db662e7565f",
   "metadata": {},
   "outputs": [
    {
     "name": "stdout",
     "output_type": "stream",
     "text": [
      "-----------------range_graph(test_square_2)-----------------\n",
      "No or not enough responses receveid(9) / expected(10)\n",
      "2 entries saved in ./test_db/2021.08.08/16-27-39 graph test_square_2.json\n",
      "range_graph> saved Graphson in ./test_db/2021.08.08/16-27-39 graph test_square_2.json\n",
      "4 entries saved in ./test_db/2021.08.08/16-27-39 ranges test_square_2.json\n",
      "range_graph> saved Ranges in ./test_db/2021.08.08/16-27-39 ranges test_square_2.json\n",
      "mp> published Graphson to 'graph/reload'\n"
     ]
    }
   ],
   "source": [
    "lists_list = [\n",
    "    (\"Green\",[\"Simple\",\"RR\"]),\n",
    "    (\"RL\",[\"Simple\",\"RR\"])\n",
    "]\n",
    "r_graph = atl.range_graph(\"test_square_2\",lists_list)\n",
    "\n",
    "mp.view(r_graph)"
   ]
  },
  {
   "cell_type": "code",
   "execution_count": null,
   "id": "1a14c4be-6fd2-4e14-b9df-410b259d59e4",
   "metadata": {},
   "outputs": [],
   "source": [
    "p_graph = atl.multilateration(r_graph)"
   ]
  },
  {
   "cell_type": "code",
   "execution_count": 7,
   "id": "fcd729b4-d2ce-48bb-91a7-484ede5d4dc5",
   "metadata": {},
   "outputs": [
    {
     "name": "stderr",
     "output_type": "stream",
     "text": [
      "closing serial port\n",
      "uart> COM35 : is Closed\n"
     ]
    }
   ],
   "source": [
    "mp.stop()"
   ]
  },
  {
   "cell_type": "code",
   "execution_count": null,
   "id": "00aaa401-cf9c-42d8-ad66-1bfbf6ad44d6",
   "metadata": {},
   "outputs": [],
   "source": []
  }
 ],
 "metadata": {
  "kernelspec": {
   "display_name": "Python 3 (ipykernel)",
   "language": "python",
   "name": "python3"
  },
  "language_info": {
   "codemirror_mode": {
    "name": "ipython",
    "version": 3
   },
   "file_extension": ".py",
   "mimetype": "text/x-python",
   "name": "python",
   "nbconvert_exporter": "python",
   "pygments_lexer": "ipython3",
   "version": "3.9.0"
  }
 },
 "nbformat": 4,
 "nbformat_minor": 5
}
