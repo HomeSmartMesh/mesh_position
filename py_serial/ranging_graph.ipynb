{
 "cells": [
  {
   "cell_type": "code",
   "execution_count": 10,
   "id": "6dee68ea-2216-4ae2-9505-fab83f74246d",
   "metadata": {},
   "outputs": [],
   "source": [
    "import meshposition as mp\n",
    "import utils as utl\n",
    "import numpy as np\n",
    "import matplotlib.pyplot as plt\n",
    "import analyse_utils as atl"
   ]
  },
  {
   "cell_type": "code",
   "execution_count": 14,
   "id": "5cd1edcb-2450-4e75-b6b3-4adf5ddfaeb2",
   "metadata": {},
   "outputs": [
    {
     "name": "stderr",
     "output_type": "stream",
     "text": [
      "uart> device with serial 000760129940 found at COM35\n",
      "uart> COM35 : is Open\n"
     ]
    },
    {
     "name": "stdout",
     "output_type": "stream",
     "text": [
      "mp>serial thread started\n"
     ]
    }
   ],
   "source": [
    "# can optionally be called for capture, must be followed by mp.stop() to close the serial port\n",
    "mp.start()"
   ]
  },
  {
   "cell_type": "code",
   "execution_count": 15,
   "id": "717da7cb-f19c-45af-b680-b8672f70c626",
   "metadata": {},
   "outputs": [
    {
     "name": "stdout",
     "output_type": "stream",
     "text": [
      "clearing 0 entries\n"
     ]
    }
   ],
   "source": [
    "#needed in case nodes output traffic on the channel e.g. when switching off and on\n",
    "mp.clear()"
   ]
  },
  {
   "cell_type": "markdown",
   "id": "9439d105-44ef-45eb-b673-9e66c08543ac",
   "metadata": {},
   "source": [
    "# RF Diagnosis"
   ]
  },
  {
   "cell_type": "code",
   "execution_count": 16,
   "id": "d2c96143-2557-49dd-9a54-bcc53f9b658d",
   "metadata": {},
   "outputs": [
    {
     "name": "stdout",
     "output_type": "stream",
     "text": [
      "(RR) : (4)/(E2F96EB1D7A476CC)\n",
      "(Green) : (2)/(530BE91D3559D690)\n",
      "(RL) : (3)/(CBC216DC164B1DE8)\n",
      "(Simple) : (1)/(5F7D70F99F462C99)\n",
      "4 entries saved in ./test_db/config_twr 2021.08.01 16-33-03.json\n"
     ]
    },
    {
     "data": {
      "text/plain": [
       "'./test_db/config_twr 2021.08.01 16-33-03.json'"
      ]
     },
     "execution_count": 16,
     "metadata": {},
     "output_type": "execute_result"
    }
   ],
   "source": [
    "node_ids = mp.rf_get_active_short_ids()\n",
    "utl.save_json_timestamp(\"config_twr\",node_ids)"
   ]
  },
  {
   "cell_type": "markdown",
   "id": "6220482a-6fa4-4adc-b93f-1e40c0ca3e37",
   "metadata": {},
   "source": [
    "# Ranging"
   ]
  },
  {
   "cell_type": "code",
   "execution_count": 17,
   "id": "04546a91-8992-49f6-8113-1db662e7565f",
   "metadata": {},
   "outputs": [
    {
     "name": "stdout",
     "output_type": "stream",
     "text": [
      "-----------------range_graph(test_square_1)-----------------\n",
      "2 entries saved in ./test_db/test_square_1 2021.08.01 16-33-10.json\n",
      "range_graph> saved Graphson in ./test_db/test_square_1 2021.08.01 16-33-10.json\n"
     ]
    }
   ],
   "source": [
    "lists_list = [\n",
    "    (\"Green\",[\"Simple\",\"RR\"]),\n",
    "    (\"RL\",[\"Simple\",\"RR\"])\n",
    "]\n",
    "atl.range_graph(\"test_square_1\",lists_list)"
   ]
  },
  {
   "cell_type": "code",
   "execution_count": 7,
   "id": "fcd729b4-d2ce-48bb-91a7-484ede5d4dc5",
   "metadata": {},
   "outputs": [],
   "source": [
    "mp.stop()"
   ]
  },
  {
   "cell_type": "code",
   "execution_count": null,
   "id": "00aaa401-cf9c-42d8-ad66-1bfbf6ad44d6",
   "metadata": {},
   "outputs": [],
   "source": []
  }
 ],
 "metadata": {
  "kernelspec": {
   "display_name": "Python 3 (ipykernel)",
   "language": "python",
   "name": "python3"
  },
  "language_info": {
   "codemirror_mode": {
    "name": "ipython",
    "version": 3
   },
   "file_extension": ".py",
   "mimetype": "text/x-python",
   "name": "python",
   "nbconvert_exporter": "python",
   "pygments_lexer": "ipython3",
   "version": "3.9.0"
  }
 },
 "nbformat": 4,
 "nbformat_minor": 5
}
