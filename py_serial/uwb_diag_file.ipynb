{
 "cells": [
  {
   "cell_type": "code",
   "execution_count": 1,
   "id": "6dee68ea-2216-4ae2-9505-fab83f74246d",
   "metadata": {},
   "outputs": [
    {
     "name": "stderr",
     "output_type": "stream",
     "text": [
      "====> 'D:\\Dev\\uwb\\server_mesh_position\\py_serial\\serial_topic_json.py' started logging with level 'Info' @ '2021-07-18 14:09:25.010982'\n"
     ]
    },
    {
     "name": "stdout",
     "output_type": "stream",
     "text": [
      "checking file './config_ryzen.json'\n",
      "loading:  ./config_ryzen.json\n"
     ]
    },
    {
     "name": "stderr",
     "output_type": "stream",
     "text": [
      "logging in file 'log/serial-2021.07.18.log'\n",
      "====> 'D:\\Dev\\uwb\\server_mesh_position\\py_serial\\meshposition.py' started logging with level 'Info' @ '2021-07-18 14:09:25.258017'\n",
      "uart> device with serial 000760130125 found at COM34\n",
      "uart> COM34 : is Open\n"
     ]
    },
    {
     "name": "stdout",
     "output_type": "stream",
     "text": [
      "mp>getting config\n",
      "checking file './config_ryzen.json'\n",
      "loading:  ./config_ryzen.json\n",
      "{'Tag': '90A971A3D1A1B648', 'FrontRight': '98501ED22B42EB41', 'FrontLeft': 'E8D81FEE52C283EB', 'RearLeft': 'C24FD51212E905F0', 'RearRight': '530BE91D3559D690', 'TestInit': 'CBC216DC164B1DE8', 'TestResp': '1CF6567337562176'}\n",
      "mp>starting serial\n",
      "mp>start serial parsing\n"
     ]
    }
   ],
   "source": [
    "import meshposition as mp\n",
    "import utils as utl\n",
    "import numpy as np\n",
    "import matplotlib.pyplot as plt\n",
    "import analyse_utils as atl\n",
    "\n",
    "mp.init()"
   ]
  },
  {
   "cell_type": "markdown",
   "id": "ade477d2-1e58-440c-ae2b-a86da6391455",
   "metadata": {},
   "source": [
    "databases available from https://www.homesmartmesh.com/docs/networks/ultrawideband/#database"
   ]
  },
  {
   "cell_type": "code",
   "execution_count": 2,
   "id": "d2c96143-2557-49dd-9a54-bcc53f9b658d",
   "metadata": {},
   "outputs": [
    {
     "name": "stdout",
     "output_type": "stream",
     "text": [
      "(Tag) : (2)/(90A971A3D1A1B648)\n",
      "(TestInit) : (1)/(CBC216DC164B1DE8)\n",
      "(TestResp) : (0)/(1CF6567337562176)\n",
      "{'Tag': {'sid': 2, 'uid': '90A971A3D1A1B648'}, 'TestInit': {'sid': 1, 'uid': 'CBC216DC164B1DE8'}, 'TestResp': {'sid': 0, 'uid': '1CF6567337562176'}}\n"
     ]
    }
   ],
   "source": [
    "node_ids = mp.rf_get_active_short_ids()\n",
    "print(node_ids)\n",
    "utl.save_json_timestamp(\"config\",node_ids)"
   ]
  },
  {
   "cell_type": "code",
   "execution_count": 24,
   "id": "66e78ba4-b774-4f42-ab36-2b4dd616ad11",
   "metadata": {},
   "outputs": [
    {
     "name": "stdout",
     "output_type": "stream",
     "text": [
      "db_uwb_ping_diag> Skipping sequence 28 due to missing responses\n",
      "db_uwb_ping_diag> Skipping sequence 48 due to missing responses\n",
      "db_uwb_ping_diag> (98)/(100)\n"
     ]
    }
   ],
   "source": [
    "n_init = node_ids[\"TestInit\"][\"sid\"]\n",
    "n_resp = node_ids[\"TestResp\"][\"sid\"]\n",
    "n_tag = node_ids[\"Tag\"][\"sid\"]\n",
    "\n",
    "diag_list = mp.get_list_uwb_ping_diag([(n_init,n_resp),(n_init,n_tag)], 100)"
   ]
  },
  {
   "cell_type": "code",
   "execution_count": 27,
   "id": "9b692e2a-9dee-4758-9234-a403d1d4c81e",
   "metadata": {
    "tags": []
   },
   "outputs": [
    {
     "data": {
      "text/plain": [
       "'./test_db/ping_diag_3_nodes 2021.07.18 16-33-05.json'"
      ]
     },
     "execution_count": 27,
     "metadata": {},
     "output_type": "execute_result"
    }
   ],
   "source": [
    "utl.save_json_timestamp(\"ping_diag_3_nodes\",diag_list)"
   ]
  },
  {
   "cell_type": "code",
   "execution_count": 25,
   "id": "370607bd-b1a8-428c-83dc-47ec97120f45",
   "metadata": {},
   "outputs": [
    {
     "name": "stdout",
     "output_type": "stream",
     "text": [
      "lodaded 197 entries\n"
     ]
    }
   ],
   "source": [
    "atl.set_data_list(diag_list)\n",
    "print(f\"lodaded {len(diag_list)} entries\")"
   ]
  },
  {
   "cell_type": "code",
   "execution_count": 28,
   "id": "265640ae-93d2-462c-b5f1-88642006da55",
   "metadata": {},
   "outputs": [
    {
     "data": {
      "image/png": "[encoded data removed]",
      "text/plain": [
       "<Figure size 1296x360 with 6 Axes>"
      ]
     },
     "metadata": {
      "needs_background": "light"
     },
     "output_type": "display_data"
    }
   ],
   "source": [
    "fig, axs = plt.subplots(2, 3, sharex=True, sharey=True)\n",
    "\n",
    "atl.plot_axis_param(\"fpAmp1\",n_init,n_resp,axs[0,0])\n",
    "atl.plot_axis_param(\"fpAmp2\",n_init,n_resp,axs[0,1])\n",
    "atl.plot_axis_param(\"fpAmp3\",n_init,n_resp,axs[0,2])\n",
    "\n",
    "atl.plot_axis_param(\"fpAmp1\",n_init,n_tag,axs[1,0])\n",
    "atl.plot_axis_param(\"fpAmp2\",n_init,n_tag,axs[1,1])\n",
    "atl.plot_axis_param(\"fpAmp3\",n_init,n_tag,axs[1,2])\n",
    "\n",
    "fig.set_size_inches(18,5)"
   ]
  },
  {
   "cell_type": "code",
   "execution_count": 29,
   "id": "78fa005d-419d-45da-97eb-61adc6b41213",
   "metadata": {},
   "outputs": [
    {
     "data": {
      "image/png": "[encoded data removed]",
      "text/plain": [
       "<Figure size 648x360 with 2 Axes>"
      ]
     },
     "metadata": {
      "needs_background": "light"
     },
     "output_type": "display_data"
    }
   ],
   "source": [
    "fig, axs = plt.subplots(2, 1, sharex=True, sharey=True)\n",
    "\n",
    "atl.plot_axis_param(\"stdNoise\",n_init,n_resp,axs[0])\n",
    "atl.plot_axis_param(\"stdNoise\",n_init,n_tag,axs[1])\n",
    "\n",
    "fig.set_size_inches(9,5)"
   ]
  },
  {
   "cell_type": "code",
   "execution_count": 30,
   "id": "277564a4-d7ba-4c26-bf8d-648fee4e0069",
   "metadata": {},
   "outputs": [
    {
     "data": {
      "image/png": "[encoded data removed]",
      "text/plain": [
       "<Figure size 648x360 with 2 Axes>"
      ]
     },
     "metadata": {
      "needs_background": "light"
     },
     "output_type": "display_data"
    }
   ],
   "source": [
    "fig, axs = plt.subplots(2, 1, sharex=True, sharey=True)\n",
    "\n",
    "atl.plot_axis_param(\"maxNoise\",n_init,n_resp,axs[0])\n",
    "atl.plot_axis_param(\"maxNoise\",n_init,n_tag,axs[1])\n",
    "\n",
    "fig.set_size_inches(9,5)"
   ]
  },
  {
   "cell_type": "code",
   "execution_count": 31,
   "id": "d973f965-943c-4e60-8175-58a25b4950d0",
   "metadata": {},
   "outputs": [
    {
     "data": {
      "image/png": "[encoded data removed]",
      "text/plain": [
       "<Figure size 648x360 with 2 Axes>"
      ]
     },
     "metadata": {
      "needs_background": "light"
     },
     "output_type": "display_data"
    }
   ],
   "source": [
    "fig, axs = plt.subplots(2, 1, sharex=True, sharey=True)\n",
    "\n",
    "atl.plot_axis_param(\"maxGrowthCIR\",n_init,n_resp,axs[0])\n",
    "atl.plot_axis_param(\"maxGrowthCIR\",n_init,n_tag,axs[1])\n",
    "\n",
    "fig.set_size_inches(9,5)"
   ]
  },
  {
   "cell_type": "code",
   "execution_count": 32,
   "id": "b02fed4f-c717-45eb-9620-27a47677b1c1",
   "metadata": {},
   "outputs": [
    {
     "data": {
      "image/png": "[encoded data removed]",
      "text/plain": [
       "<Figure size 648x360 with 2 Axes>"
      ]
     },
     "metadata": {
      "needs_background": "light"
     },
     "output_type": "display_data"
    }
   ],
   "source": [
    "fig, axs = plt.subplots(2, 1, sharex=True, sharey=True)\n",
    "\n",
    "atl.plot_axis_param(\"rxPreamCount\",n_init,n_resp,axs[0])\n",
    "atl.plot_axis_param(\"rxPreamCount\",n_init,n_tag,axs[1])\n",
    "\n",
    "fig.set_size_inches(9,5)"
   ]
  },
  {
   "cell_type": "code",
   "execution_count": null,
   "id": "fcd729b4-d2ce-48bb-91a7-484ede5d4dc5",
   "metadata": {},
   "outputs": [],
   "source": []
  }
 ],
 "metadata": {
  "kernelspec": {
   "display_name": "Python 3 (ipykernel)",
   "language": "python",
   "name": "python3"
  },
  "language_info": {
   "codemirror_mode": {
    "name": "ipython",
    "version": 3
   },
   "file_extension": ".py",
   "mimetype": "text/x-python",
   "name": "python",
   "nbconvert_exporter": "python",
   "pygments_lexer": "ipython3",
   "version": "3.9.0"
  }
 },
 "nbformat": 4,
 "nbformat_minor": 5
}
