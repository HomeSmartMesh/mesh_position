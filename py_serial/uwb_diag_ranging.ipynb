{
 "cells": [
  {
   "cell_type": "code",
   "execution_count": 1,
   "id": "6dee68ea-2216-4ae2-9505-fab83f74246d",
   "metadata": {},
   "outputs": [],
   "source": [
    "import meshposition as mp\n",
    "import utils as utl\n",
    "import numpy as np\n",
    "import matplotlib.pyplot as plt\n",
    "import analyse_utils as atl"
   ]
  },
  {
   "cell_type": "code",
   "execution_count": null,
   "id": "5cd1edcb-2450-4e75-b6b3-4adf5ddfaeb2",
   "metadata": {},
   "outputs": [],
   "source": [
    "# can optionally be called for capture, must be followed by mp.stop() to close the serial port\n",
    "mp.start()"
   ]
  },
  {
   "cell_type": "markdown",
   "id": "9439d105-44ef-45eb-b673-9e66c08543ac",
   "metadata": {},
   "source": [
    "# RF Diagnosis"
   ]
  },
  {
   "cell_type": "code",
   "execution_count": 2,
   "id": "d2c96143-2557-49dd-9a54-bcc53f9b658d",
   "metadata": {},
   "outputs": [
    {
     "name": "stdout",
     "output_type": "stream",
     "text": [
      "(Green) : (255)/(530BE91D3559D690)\n",
      "(Wired) : (1)/(CBC216DC164B1DE8)\n",
      "(Simple) : (2)/(5F7D70F99F462C99)\n"
     ]
    },
    {
     "data": {
      "text/plain": [
       "'./test_db/config_twr 2021.07.26 19-20-38.json'"
      ]
     },
     "execution_count": 2,
     "metadata": {},
     "output_type": "execute_result"
    }
   ],
   "source": [
    "node_ids = mp.rf_get_active_short_ids()\n",
    "utl.save_json_timestamp(\"config_twr\",node_ids)"
   ]
  },
  {
   "cell_type": "code",
   "execution_count": 3,
   "id": "8b340385-d2c1-4a6f-b4a4-f9fbddf2c52c",
   "metadata": {},
   "outputs": [
    {
     "name": "stdout",
     "output_type": "stream",
     "text": [
      "test_ping(0)> rssi = 55\n",
      "test_ping(1)> rssi = 55\n",
      "test_ping(2)> rssi = 55\n",
      "test_ping(0)> rssi = 68\n",
      "test_ping(1)> rssi = 67\n",
      "test_ping(2)> rssi = 68\n",
      "test_ping(0)> rssi = 75\n",
      "test_ping(1)> rssi = 75\n",
      "test_ping(2)> rssi = 75\n"
     ]
    }
   ],
   "source": [
    "mp.test_rf_ping_rssi(\"Wired\", 3)\n",
    "mp.test_rf_ping_rssi(\"Simple\", 3)\n",
    "mp.test_rf_ping_rssi(\"Green\", 3)"
   ]
  },
  {
   "cell_type": "markdown",
   "id": "1591a571-e2a5-44f8-997d-fe5b426947a5",
   "metadata": {},
   "source": [
    "# UWB Diagnosis"
   ]
  },
  {
   "cell_type": "code",
   "execution_count": 4,
   "id": "b976e6cf-357a-40fb-ac29-6a747b5458c1",
   "metadata": {},
   "outputs": [
    {
     "name": "stdout",
     "output_type": "stream",
     "text": [
      "db_uwb_ping_diag> Skipping sequence 2 due to missing responses\n",
      "db_uwb_ping_diag> Skipping sequence 37 due to missing responses\n",
      "db_uwb_ping_diag> Skipping sequence 63 due to missing responses\n",
      "db_uwb_ping_diag> Skipping sequence 67 due to missing responses\n",
      "db_uwb_ping_diag> Skipping sequence 77 due to missing responses\n",
      "db_uwb_ping_diag> (95)/(100)\n"
     ]
    }
   ],
   "source": [
    "diag_list = mp.get_list_uwb_ping_diag([(\"Wired\",\"Simple\"),(\"Wired\",\"Green\")], 100)\n",
    "utl.save_json_timestamp(\"ping_twr\",diag_list)"
   ]
  },
  {
   "cell_type": "code",
   "execution_count": 2,
   "id": "f768f5cb-82ba-4b82-99ce-7d7425c03418",
   "metadata": {},
   "outputs": [],
   "source": [
    "diag_list = utl.load_json(\"./test_db/ping_twr 2021.07.26 19-23-57.json\")"
   ]
  },
  {
   "cell_type": "code",
   "execution_count": 3,
   "id": "444a9b7f-10c3-4010-bc02-8b89dae59371",
   "metadata": {},
   "outputs": [
    {
     "data": {
      "image/png": "[encoded data removed]",
      "text/plain": [
       "<Figure size 864x360 with 2 Axes>"
      ]
     },
     "metadata": {
      "needs_background": "light"
     },
     "output_type": "display_data"
    }
   ],
   "source": [
    "atl.plot_ping_list_param([(\"Wired\",\"Simple\"),(\"Wired\",\"Green\")],\"fpAmp1\", diag_list)"
   ]
  },
  {
   "cell_type": "markdown",
   "id": "6220482a-6fa4-4adc-b93f-1e40c0ca3e37",
   "metadata": {},
   "source": [
    "# Ranging"
   ]
  },
  {
   "cell_type": "code",
   "execution_count": 8,
   "id": "66e78ba4-b774-4f42-ab36-2b4dd616ad11",
   "metadata": {},
   "outputs": [
    {
     "name": "stdout",
     "output_type": "stream",
     "text": [
      "db_uwb_twr> 100 ranging saved in ./test_db/res_twr 2021.07.26 19-26-37.json\n"
     ]
    }
   ],
   "source": [
    "twr_list = mp.uwb_twr(initiator=\"Wired\", responders=[\"Simple\",\"Green\"], step_ms=10, count=50, count_ms=30)\n",
    "newFileName = utl.save_json_timestamp(\"res_twr\",twr_list)"
   ]
  },
  {
   "cell_type": "code",
   "execution_count": 2,
   "id": "255908ab-877f-424e-bab2-7b31b61bc3f0",
   "metadata": {},
   "outputs": [],
   "source": [
    "twr_list = utl.load_json(\"./test_db/res_twr 2021.07.26 19-26-37.json\")"
   ]
  },
  {
   "cell_type": "code",
   "execution_count": 3,
   "id": "45ba408f-251a-4cd1-a54e-1355a10d8bbf",
   "metadata": {},
   "outputs": [
    {
     "data": {
      "image/png": "[encoded data removed]",
      "text/plain": [
       "<Figure size 864x432 with 2 Axes>"
      ]
     },
     "metadata": {
      "needs_background": "light"
     },
     "output_type": "display_data"
    }
   ],
   "source": [
    "atl.plot_twr_list([(\"Wired\",\"Simple\"),(\"Wired\",\"Green\")], twr_list)"
   ]
  },
  {
   "cell_type": "code",
   "execution_count": 7,
   "id": "fcd729b4-d2ce-48bb-91a7-484ede5d4dc5",
   "metadata": {},
   "outputs": [],
   "source": [
    "mp.stop()"
   ]
  },
  {
   "cell_type": "code",
   "execution_count": null,
   "id": "e719b90f-89a4-4360-ab19-5778592b26d2",
   "metadata": {},
   "outputs": [],
   "source": []
  }
 ],
 "metadata": {
  "kernelspec": {
   "display_name": "Python 3 (ipykernel)",
   "language": "python",
   "name": "python3"
  },
  "language_info": {
   "codemirror_mode": {
    "name": "ipython",
    "version": 3
   },
   "file_extension": ".py",
   "mimetype": "text/x-python",
   "name": "python",
   "nbconvert_exporter": "python",
   "pygments_lexer": "ipython3",
   "version": "3.9.0"
  }
 },
 "nbformat": 4,
 "nbformat_minor": 5
}
