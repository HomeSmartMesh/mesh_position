{
 "cells": [
  {
   "cell_type": "code",
   "execution_count": 1,
   "id": "6dee68ea-2216-4ae2-9505-fab83f74246d",
   "metadata": {},
   "outputs": [],
   "source": [
    "import meshposition as mp\n",
    "import utils as utl\n",
    "import numpy as np\n",
    "import matplotlib.pyplot as plt\n",
    "import analyse_utils as atl"
   ]
  },
  {
   "cell_type": "code",
   "execution_count": 2,
   "id": "5cd1edcb-2450-4e75-b6b3-4adf5ddfaeb2",
   "metadata": {},
   "outputs": [
    {
     "name": "stderr",
     "output_type": "stream",
     "text": [
      "uart> device with serial 000760129940 found at COM35\n",
      "uart> COM35 : is Open\n"
     ]
    },
    {
     "name": "stdout",
     "output_type": "stream",
     "text": [
      "mp>serial thread started\n"
     ]
    }
   ],
   "source": [
    "# can optionally be called for capture, must be followed by mp.stop() to close the serial port\n",
    "mp.start()"
   ]
  },
  {
   "cell_type": "code",
   "execution_count": 3,
   "id": "717da7cb-f19c-45af-b680-b8672f70c626",
   "metadata": {},
   "outputs": [
    {
     "name": "stdout",
     "output_type": "stream",
     "text": [
      "clearing 0 entries\n"
     ]
    }
   ],
   "source": [
    "#needed in case nodes output traffic on the channel e.g. when switching off and on\n",
    "mp.clear()"
   ]
  },
  {
   "cell_type": "markdown",
   "id": "9439d105-44ef-45eb-b673-9e66c08543ac",
   "metadata": {},
   "source": [
    "# RF Diagnosis"
   ]
  },
  {
   "cell_type": "code",
   "execution_count": 5,
   "id": "d2c96143-2557-49dd-9a54-bcc53f9b658d",
   "metadata": {},
   "outputs": [
    {
     "name": "stdout",
     "output_type": "stream",
     "text": [
      "(Test) : (1)/(90A971A3D1A1B648)\n",
      "(FrontRight) : (2)/(98501ED22B42EB41)\n",
      "(FrontLeft) : (3)/(E8D81FEE52C283EB)\n",
      "(Simple) : (2)/(5F7D70F99F462C99)\n",
      "4 entries saved in ./test_db/config_twr 2021.08.01 15-02-14.json\n"
     ]
    },
    {
     "data": {
      "text/plain": [
       "'./test_db/config_twr 2021.08.01 15-02-14.json'"
      ]
     },
     "execution_count": 5,
     "metadata": {},
     "output_type": "execute_result"
    }
   ],
   "source": [
    "node_ids = mp.rf_get_active_short_ids()\n",
    "utl.save_json_timestamp(\"config_twr\",node_ids)"
   ]
  },
  {
   "cell_type": "code",
   "execution_count": 81,
   "id": "8b340385-d2c1-4a6f-b4a4-f9fbddf2c52c",
   "metadata": {},
   "outputs": [
    {
     "name": "stdout",
     "output_type": "stream",
     "text": [
      "test_ping(0)> rssi = 63\n",
      "test_ping(1)> rssi = 63\n",
      "test_ping(2)> rssi = 63\n",
      "test_ping(0)> rssi = 69\n",
      "test_ping(1)> rssi = 69\n",
      "test_ping(2)> rssi = 69\n",
      "test_ping(0)> rssi = 58\n",
      "test_ping(1)> rssi = 58\n",
      "test_ping(2)> rssi = 58\n"
     ]
    }
   ],
   "source": [
    "mp.test_rf_ping_rssi(\"Wired\", 3)\n",
    "mp.test_rf_ping_rssi(\"Simple\", 3)\n",
    "mp.test_rf_ping_rssi(\"Green\", 3)"
   ]
  },
  {
   "cell_type": "code",
   "execution_count": 82,
   "id": "d193c71b-4efc-4dd3-9ef9-c97e497152fe",
   "metadata": {},
   "outputs": [
    {
     "data": {
      "text/plain": [
       "1"
      ]
     },
     "execution_count": 82,
     "metadata": {},
     "output_type": "execute_result"
    }
   ],
   "source": [
    "mp.rf_short_id(\"Green\")"
   ]
  },
  {
   "cell_type": "markdown",
   "id": "1591a571-e2a5-44f8-997d-fe5b426947a5",
   "metadata": {},
   "source": [
    "# UWB Diagnosis"
   ]
  },
  {
   "cell_type": "code",
   "execution_count": 89,
   "id": "b976e6cf-357a-40fb-ac29-6a747b5458c1",
   "metadata": {},
   "outputs": [
    {
     "name": "stdout",
     "output_type": "stream",
     "text": [
      "db_uwb_ping_diag> Skipping sequence 0 due to missing responses\n",
      "db_uwb_ping_diag> Skipping sequence 1 due to missing responses\n",
      "db_uwb_ping_diag> Skipping sequence 2 due to missing responses\n",
      "db_uwb_ping_diag> Skipping sequence 6 due to missing responses\n",
      "db_uwb_ping_diag> Skipping sequence 7 due to missing responses\n",
      "db_uwb_ping_diag> Skipping sequence 8 due to missing responses\n",
      "db_uwb_ping_diag> Skipping sequence 9 due to missing responses\n",
      "db_uwb_ping_diag> Skipping sequence 12 due to missing responses\n",
      "db_uwb_ping_diag> Skipping sequence 13 due to missing responses\n",
      "db_uwb_ping_diag> Skipping sequence 30 due to missing responses\n",
      "db_uwb_ping_diag> Skipping sequence 31 due to missing responses\n",
      "db_uwb_ping_diag> Skipping sequence 34 due to missing responses\n",
      "db_uwb_ping_diag> Skipping sequence 37 due to missing responses\n",
      "db_uwb_ping_diag> Skipping sequence 41 due to missing responses\n",
      "db_uwb_ping_diag> Skipping sequence 45 due to missing responses\n",
      "db_uwb_ping_diag> Skipping sequence 46 due to missing responses\n",
      "db_uwb_ping_diag> Skipping sequence 49 due to missing responses\n",
      "db_uwb_ping_diag> (33)/(50)\n",
      "66 entries saved in ./test_db/ping_twr_far 2021.07.29 19-50-58.json\n"
     ]
    },
    {
     "data": {
      "text/plain": [
       "'./test_db/ping_twr_far 2021.07.29 19-50-58.json'"
      ]
     },
     "execution_count": 89,
     "metadata": {},
     "output_type": "execute_result"
    }
   ],
   "source": [
    "diag_list = mp.get_list_uwb_ping_diag([(\"Wired\",\"Simple\"),(\"Wired\",\"Green\")], 50)\n",
    "utl.save_json_timestamp(\"ping_twr_far\",diag_list)"
   ]
  },
  {
   "cell_type": "code",
   "execution_count": 2,
   "id": "f768f5cb-82ba-4b82-99ce-7d7425c03418",
   "metadata": {},
   "outputs": [],
   "source": [
    "diag_list = utl.load_json(\"./test_db/ping_twr 2021.07.26 19-23-57.json\")"
   ]
  },
  {
   "cell_type": "code",
   "execution_count": 90,
   "id": "444a9b7f-10c3-4010-bc02-8b89dae59371",
   "metadata": {},
   "outputs": [
    {
     "data": {
      "image/png": "[encoded data removed]",
      "text/plain": [
       "<Figure size 864x360 with 2 Axes>"
      ]
     },
     "metadata": {
      "needs_background": "light"
     },
     "output_type": "display_data"
    }
   ],
   "source": [
    "atl.plot_ping_list_param([(\"Wired\",\"Simple\"),(\"Wired\",\"Green\")],\"fpAmp1\", diag_list)"
   ]
  },
  {
   "cell_type": "markdown",
   "id": "6220482a-6fa4-4adc-b93f-1e40c0ca3e37",
   "metadata": {},
   "source": [
    "# Ranging"
   ]
  },
  {
   "cell_type": "code",
   "execution_count": 100,
   "id": "66e78ba4-b774-4f42-ab36-2b4dd616ad11",
   "metadata": {},
   "outputs": [
    {
     "name": "stdout",
     "output_type": "stream",
     "text": [
      "100 entries saved in ./test_db/res_twr_far 2021.07.29 19-53-50.json\n"
     ]
    }
   ],
   "source": [
    "twr_list = mp.uwb_twr(initiator=\"Wired\", responders=[\"Simple\",\"Green\"], step_ms=10, count=50, count_ms=30)\n",
    "newFileName = utl.save_json_timestamp(\"res_twr_far\",twr_list)"
   ]
  },
  {
   "cell_type": "code",
   "execution_count": 18,
   "id": "255908ab-877f-424e-bab2-7b31b61bc3f0",
   "metadata": {},
   "outputs": [],
   "source": [
    "twr_list = utl.load_json(\"./test_db/res_twr_cover 2021.07.29 19-51-40.json\")"
   ]
  },
  {
   "cell_type": "code",
   "execution_count": 101,
   "id": "45ba408f-251a-4cd1-a54e-1355a10d8bbf",
   "metadata": {},
   "outputs": [
    {
     "data": {
      "image/png": "[encoded data removed]",
      "text/plain": [
       "<Figure size 864x432 with 2 Axes>"
      ]
     },
     "metadata": {
      "needs_background": "light"
     },
     "output_type": "display_data"
    }
   ],
   "source": [
    "atl.plot_twr_list([(\"Wired\",\"Simple\"),(\"Wired\",\"Green\")], twr_list)"
   ]
  },
  {
   "cell_type": "code",
   "execution_count": 43,
   "id": "fcd729b4-d2ce-48bb-91a7-484ede5d4dc5",
   "metadata": {},
   "outputs": [],
   "source": [
    "mp.stop()"
   ]
  },
  {
   "cell_type": "code",
   "execution_count": null,
   "id": "57f46200-5e13-4680-a729-76f0fdd8adca",
   "metadata": {},
   "outputs": [],
   "source": []
  }
 ],
 "metadata": {
  "kernelspec": {
   "display_name": "Python 3 (ipykernel)",
   "language": "python",
   "name": "python3"
  },
  "language_info": {
   "codemirror_mode": {
    "name": "ipython",
    "version": 3
   },
   "file_extension": ".py",
   "mimetype": "text/x-python",
   "name": "python",
   "nbconvert_exporter": "python",
   "pygments_lexer": "ipython3",
   "version": "3.9.0"
  }
 },
 "nbformat": 4,
 "nbformat_minor": 5
}
