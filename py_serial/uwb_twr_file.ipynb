{
 "cells": [
  {
   "cell_type": "code",
   "execution_count": 1,
   "id": "6dee68ea-2216-4ae2-9505-fab83f74246d",
   "metadata": {},
   "outputs": [],
   "source": [
    "import utils as utl\n",
    "import numpy as np\n",
    "import matplotlib.pyplot as plt\n",
    "import analyse_utils as atl"
   ]
  },
  {
   "cell_type": "code",
   "execution_count": 4,
   "id": "d2c96143-2557-49dd-9a54-bcc53f9b658d",
   "metadata": {},
   "outputs": [],
   "source": [
    "dbfileName = \"./test_db/res_twr 2021.07.25 19-32-46.json\"\n",
    "twr_list = utl.load_json(dbfileName)"
   ]
  },
  {
   "cell_type": "code",
   "execution_count": 5,
   "id": "45ba408f-251a-4cd1-a54e-1355a10d8bbf",
   "metadata": {},
   "outputs": [
    {
     "name": "stdout",
     "output_type": "stream",
     "text": [
      "{'error': 'twr_3_final_failed', 'initiator': 'Tester', 'responder': 'Wired', 'seq': 15}\n",
      "{'error': 'mp_receive_1_failed', 'initiator': 'Tester', 'responder': 'Wired', 'seq': 47}\n",
      "{'error': 'twr_3_final_failed', 'initiator': 'Tester', 'responder': 'Wired', 'seq': 49}\n"
     ]
    },
    {
     "data": {
      "image/png": "[encoded data removed]",
      "text/plain": [
       "<Figure size 1152x216 with 1 Axes>"
      ]
     },
     "metadata": {
      "needs_background": "light"
     },
     "output_type": "display_data"
    }
   ],
   "source": [
    "data = atl.get_range(\"Tester\",\"Wired\",twr_list)\n",
    "\n",
    "fig = plt.figure()\n",
    "plt.hist(data, bins='auto')\n",
    "fig.set_size_inches(16,3)"
   ]
  },
  {
   "cell_type": "code",
   "execution_count": 8,
   "id": "0a9b183a-b438-44b1-b2e3-7e68f3398bea",
   "metadata": {},
   "outputs": [
    {
     "name": "stdout",
     "output_type": "stream",
     "text": [
      "lodaded 150 entries\n"
     ]
    }
   ],
   "source": [
    "dbfileName = \"./test_db/res_twr_3_close 2021.07.25 19-34-26.json\"\n",
    "twr_list = utl.load_json(dbfileName)\n",
    "print(f\"lodaded {len(twr_list)} entries\")"
   ]
  },
  {
   "cell_type": "code",
   "execution_count": 11,
   "id": "fbf3c899-8909-49ff-b0c1-e879664f457d",
   "metadata": {},
   "outputs": [
    {
     "name": "stdout",
     "output_type": "stream",
     "text": [
      "{'error': 'twr_3_final_failed', 'initiator': 'Tester', 'responder': 'Wired', 'seq': 69}\n",
      "{'error': 'twr_3_final_failed', 'initiator': 'Tester', 'responder': 'Wired', 'seq': 72}\n",
      "{'error': 'mp_receive_1_failed', 'initiator': 'Tester', 'responder': 'Wired', 'seq': 102}\n"
     ]
    },
    {
     "data": {
      "image/png": "[encoded data removed]",
      "text/plain": [
       "<Figure size 1296x360 with 3 Axes>"
      ]
     },
     "metadata": {
      "needs_background": "light"
     },
     "output_type": "display_data"
    }
   ],
   "source": [
    "data1 = atl.get_range(\"Tester\",\"Wired\",twr_list)\n",
    "data2 = atl.get_range(\"Tester\",\"Green\",twr_list)\n",
    "data3 = atl.get_range(\"Tester\",\"Green\",twr_list)\n",
    "\n",
    "fig, axs = plt.subplots(3, 1, sharex=True, sharey=True)\n",
    "axs[0].hist(data1, bins='auto')\n",
    "axs[1].hist(data2, bins='auto')\n",
    "axs[2].hist(data3, bins='auto')\n",
    "\n",
    "fig.set_size_inches(18,5)"
   ]
  }
 ],
 "metadata": {
  "kernelspec": {
   "display_name": "Python 3 (ipykernel)",
   "language": "python",
   "name": "python3"
  },
  "language_info": {
   "codemirror_mode": {
    "name": "ipython",
    "version": 3
   },
   "file_extension": ".py",
   "mimetype": "text/x-python",
   "name": "python",
   "nbconvert_exporter": "python",
   "pygments_lexer": "ipython3",
   "version": "3.9.0"
  }
 },
 "nbformat": 4,
 "nbformat_minor": 5
}
